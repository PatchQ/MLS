{
 "cells": [
  {
   "cell_type": "code",
   "execution_count": 1,
   "metadata": {},
   "outputs": [
    {
     "name": "stderr",
     "output_type": "stream",
     "text": [
      "100%|██████████| 1758/1758 [01:46<00:00, 16.57it/s]"
     ]
    },
    {
     "name": "stdout",
     "output_type": "stream",
     "text": [
      "It took106.23 second(s) to finish.\n"
     ]
    },
    {
     "name": "stderr",
     "output_type": "stream",
     "text": [
      "\n"
     ]
    }
   ],
   "source": [
    "import pandas as pd\n",
    "import time as t\n",
    "from datetime import datetime, timedelta\n",
    "import yfinance as yf\n",
    "from tqdm import tqdm\n",
    "import concurrent.futures as cf\n",
    "\n",
    "PATH = \"../SData/YFData/\"\n",
    "SDATE = \"2021-01-01\"\n",
    "#SDATE = \"1980-01-01\"\n",
    "EDATE = (datetime.today() + timedelta(days=1)).strftime(\"%Y-%m-%d\")\n",
    "\n",
    "STOCKLIST = pd.read_excel(\"Data/stocklist.xlsx\",dtype=str)\n",
    "INDEXLIST = pd.Series([\"^HSI\",\"^DJI\",\"^IXIC\",\"^GSPC\",\"^N225\",\"^FTSE\",\"^GDAXI\",\"^FCHI\",\"000001.SS\",\"399001.SZ\"])\n",
    "SLIST = STOCKLIST[\"sno\"][:].append(INDEXLIST)\n",
    "SLIST = SLIST[:]\n",
    "\n",
    "def getData(sno):\n",
    "    outputlist = yf.download(sno, threads=False, interval='1d', auto_adjust=True, start=SDATE, end=EDATE, progress=False, show_errors=False)\n",
    "    outputlist.insert(0,\"sno\", sno)\n",
    "    outputlist = outputlist.loc[outputlist[\"Volume\"]>0]\n",
    "    outputlist.to_excel(PATH+sno+\".xlsx\")\n",
    "\n",
    "def main():\n",
    "    with cf.ThreadPoolExecutor(max_workers=17) as executor:\n",
    "        list(tqdm(executor.map(getData,SLIST,chunksize=2),total=len(SLIST)))\n",
    "\n",
    "if __name__ == '__main__':\n",
    "    \n",
    "    start = t.perf_counter()\n",
    "\n",
    "    main()\n",
    "\n",
    "    finish = t.perf_counter()\n",
    "    print(f'It took{round(finish-start,2)} second(s) to finish.')\n"
   ]
  }
 ],
 "metadata": {
  "kernelspec": {
   "display_name": "Python 3",
   "language": "python",
   "name": "python3"
  },
  "language_info": {
   "codemirror_mode": {
    "name": "ipython",
    "version": 3
   },
   "file_extension": ".py",
   "mimetype": "text/x-python",
   "name": "python",
   "nbconvert_exporter": "python",
   "pygments_lexer": "ipython3",
   "version": "3.6.6+"
  }
 },
 "nbformat": 4,
 "nbformat_minor": 2
}
