{
 "cells": [
  {
   "cell_type": "code",
   "execution_count": 2,
   "metadata": {},
   "outputs": [
    {
     "name": "stderr",
     "output_type": "stream",
     "text": [
      "100%|███████████████████████████████████████| 1758/1758 [02:40<00:00, 10.98it/s]"
     ]
    },
    {
     "name": "stdout",
     "output_type": "stream",
     "text": [
      "Finish\n"
     ]
    },
    {
     "name": "stderr",
     "output_type": "stream",
     "text": [
      "\n"
     ]
    }
   ],
   "source": [
    "import pandas as pd\n",
    "import numpy as np\n",
    "import concurrent.futures as cf\n",
    "import yfinance as yf\n",
    "import os\n",
    "from tqdm import tqdm\n",
    "\n",
    "\n",
    "#get stock excel file from path\n",
    "OUTPATH = \"P_YFData/\"\n",
    "EDATE = \"2022-09-01\"\n",
    "SLIST = list(map(lambda s: s.replace(\".xlsx\", \"\"), os.listdir(OUTPATH)))\n",
    "SLIST = SLIST[:]\n",
    "\n",
    "\n",
    "def allvcpStock(sno):\n",
    "\n",
    "    tempsno = str(sno).lstrip(\"0\")\n",
    "    tempsno = tempsno.zfill(7)\n",
    "\n",
    "    df = pd.read_excel(OUTPATH+sno+\".xlsx\",index_col=0)\n",
    "    df = df.loc[df.index>=EDATE]\n",
    "    df = df.loc[df[\"VCP\"]]\n",
    "    df = df.reset_index()\n",
    "\n",
    "    return df\n",
    "\n",
    "def main():\n",
    "    allvcp = pd.DataFrame()\n",
    "\n",
    "    with cf.ThreadPoolExecutor(max_workers=17) as executor:\n",
    "        for tempdf in tqdm(executor.map(allvcpStock,SLIST,chunksize=2),total=len(SLIST)):\n",
    "            allvcp = pd.concat([tempdf, allvcp], ignore_index=True)\n",
    "\n",
    "        allvcp.to_excel(\"Data/allvcp.xlsx\",index=False)\n",
    "        print(\"Finish\")\n",
    "\n",
    "        \n",
    "if __name__ == '__main__':\n",
    "    main()\n",
    "        \n",
    "        \n",
    "        \n",
    "        \n",
    "        "
   ]
  },
  {
   "cell_type": "code",
   "execution_count": 1,
   "metadata": {},
   "outputs": [
    {
     "ename": "NameError",
     "evalue": "name 'python' is not defined",
     "output_type": "error",
     "traceback": [
      "\u001b[0;31m---------------------------------------------------------------------------\u001b[0m",
      "\u001b[0;31mNameError\u001b[0m                                 Traceback (most recent call last)",
      "Input \u001b[0;32mIn [1]\u001b[0m, in \u001b[0;36m<cell line: 1>\u001b[0;34m()\u001b[0m\n\u001b[0;32m----> 1\u001b[0m \u001b[43mpython\u001b[49m \u001b[38;5;241m-\u001b[39mversion\n",
      "\u001b[0;31mNameError\u001b[0m: name 'python' is not defined"
     ]
    }
   ],
   "source": [
    "python -version"
   ]
  },
  {
   "cell_type": "code",
   "execution_count": 5,
   "metadata": {},
   "outputs": [
    {
     "name": "stdout",
     "output_type": "stream",
     "text": [
      "Python 3.9.10+\n",
      "\r"
     ]
    }
   ],
   "source": [
    "!python --version"
   ]
  },
  {
   "cell_type": "code",
   "execution_count": null,
   "metadata": {},
   "outputs": [],
   "source": []
  }
 ],
 "metadata": {
  "kernelspec": {
   "display_name": "Python 3 (ipykernel)",
   "language": "python",
   "name": "python3"
  },
  "language_info": {
   "codemirror_mode": {
    "name": "ipython",
    "version": 3
   },
   "file_extension": ".py",
   "mimetype": "text/x-python",
   "name": "python",
   "nbconvert_exporter": "python",
   "pygments_lexer": "ipython3",
   "version": "3.9.10+"
  }
 },
 "nbformat": 4,
 "nbformat_minor": 2
}
