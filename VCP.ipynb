{
 "cells": [
  {
   "cell_type": "code",
   "execution_count": 1,
   "metadata": {},
   "outputs": [
    {
     "name": "stderr",
     "output_type": "stream",
     "text": [
      "100%|██████████| 1758/1758 [02:41<00:00, 10.86it/s]\n"
     ]
    },
    {
     "name": "stdout",
     "output_type": "stream",
     "text": [
      "Finish\n"
     ]
    }
   ],
   "source": [
    "import pandas as pd\n",
    "import numpy as np\n",
    "import concurrent.futures as cf\n",
    "import yfinance as yf\n",
    "from tqdm import tqdm\n",
    "import os\n",
    "\n",
    "#get stock excel file from path\n",
    "OUTPATH = \"P_YFData/\"\n",
    "EDATE = \"2023-01-01\"\n",
    "SLIST = list(map(lambda s: s.replace(\".xlsx\", \"\"), os.listdir(OUTPATH)))\n",
    "SLIST = SLIST[:]\n",
    "\n",
    "\n",
    "def allvcpStock(sno):\n",
    "\n",
    "    tempsno = str(sno).lstrip(\"0\")\n",
    "    tempsno = tempsno.zfill(7)\n",
    "\n",
    "    df = pd.read_excel(OUTPATH+sno+\".xlsx\",index_col=0)\n",
    "    df = df.loc[df.index>=EDATE]\n",
    "    df = df.loc[df[\"VCP\"]]\n",
    "    df = df.reset_index()\n",
    "\n",
    "    return df\n",
    "\n",
    "def main():\n",
    "    allvcp = pd.DataFrame()\n",
    "\n",
    "    with cf.ThreadPoolExecutor(max_workers=17) as executor:\n",
    "        for tempdf in tqdm(executor.map(allvcpStock,SLIST,chunksize=2),total=len(SLIST)):\n",
    "            allvcp = pd.concat([tempdf, allvcp], ignore_index=True)\n",
    "\n",
    "        allvcp.to_excel(\"Data/allvcp.xlsx\",index=False)\n",
    "        print(\"Finish\")\n",
    "\n",
    "        \n",
    "if __name__ == '__main__':\n",
    "    main()\n",
    "        \n",
    "        \n",
    "        \n",
    "        \n",
    "        "
   ]
  },
  {
   "cell_type": "code",
   "execution_count": 1,
   "metadata": {},
   "outputs": [
    {
     "ename": "SyntaxError",
     "evalue": "invalid syntax (<ipython-input-1-f188d5ac1197>, line 1)",
     "output_type": "error",
     "traceback": [
      "\u001b[0;36m  File \u001b[0;32m\"<ipython-input-1-f188d5ac1197>\"\u001b[0;36m, line \u001b[0;32m1\u001b[0m\n\u001b[0;31m    git init\u001b[0m\n\u001b[0m           ^\u001b[0m\n\u001b[0;31mSyntaxError\u001b[0m\u001b[0;31m:\u001b[0m invalid syntax\n"
     ]
    }
   ],
   "source": [
    "git init"
   ]
  }
 ],
 "metadata": {
  "kernelspec": {
   "display_name": "Python 3",
   "language": "python",
   "name": "python3"
  },
  "language_info": {
   "codemirror_mode": {
    "name": "ipython",
    "version": 3
   },
   "file_extension": ".py",
   "mimetype": "text/x-python",
   "name": "python",
   "nbconvert_exporter": "python",
   "pygments_lexer": "ipython3",
   "version": "3.6.6+"
  }
 },
 "nbformat": 4,
 "nbformat_minor": 2
}
